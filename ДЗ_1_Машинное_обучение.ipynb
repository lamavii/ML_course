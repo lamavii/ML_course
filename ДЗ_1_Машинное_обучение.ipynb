{
  "cells": [
    {
      "cell_type": "markdown",
      "metadata": {
        "id": "i5j9zpNDIUnJ"
      },
      "source": [
        "Вам дан набор данных с фактическими значениями целевой переменной и предсказанными значениями:\n",
        "\n",
        "\n",
        "Фактические значения\n",
        "\n",
        "actual_values = np.array([100, 150, 200, 250])\n",
        "\n",
        "\n",
        "Предсказанные значения\n",
        "\n",
        "predicted_values = np.array([90, 140, 180, 270])\n",
        "\n",
        "Задача студентов состоит в расчете среднеквадратичной ошибки (MSE) и средней абсолютной ошибки (MAE) для данного набора данных без использования модели. Студенты должны использовать правильные значения фактической переменной и предсказанные значения для расчета функций потерь. Они также должны проанализировать результаты и объяснить, какие значения функции потерь указывают на лучшую точность предсказания."
      ]
    },
    {
      "cell_type": "markdown",
      "metadata": {
        "id": "9k2Pipw-IUnL"
      },
      "source": [
        "## Решение"
      ]
    },
    {
      "cell_type": "code",
      "execution_count": 1,
      "metadata": {
        "id": "7yZPJYjjIUnM"
      },
      "outputs": [],
      "source": [
        "import numpy  as np\n",
        "import matplotlib.pyplot as plt"
      ]
    },
    {
      "cell_type": "code",
      "execution_count": 2,
      "metadata": {
        "id": "x6bLWeIcIUnN"
      },
      "outputs": [],
      "source": [
        "actual_values = np.array([100, 150, 200, 250])"
      ]
    },
    {
      "cell_type": "code",
      "execution_count": 3,
      "metadata": {
        "id": "4pGC7xlfIUnN"
      },
      "outputs": [],
      "source": [
        "predicted_values = np.array([90, 140, 180, 270])"
      ]
    },
    {
      "cell_type": "markdown",
      "metadata": {
        "id": "ki_mT99oIUnN"
      },
      "source": [
        "Расчет MSE:"
      ]
    },
    {
      "cell_type": "code",
      "execution_count": 4,
      "metadata": {
        "colab": {
          "base_uri": "https://localhost:8080/"
        },
        "id": "jpRoXBGeIUnN",
        "outputId": "cfbee740-974d-4870-c0d8-46ecd93bd73e"
      },
      "outputs": [
        {
          "output_type": "stream",
          "name": "stdout",
          "text": [
            "MSE: 250.0\n"
          ]
        }
      ],
      "source": [
        "n = len(actual_values)\n",
        "mse = (1/n) * sum((actual_values - predicted_values) ** 2)\n",
        "print(f\"MSE: {mse}\")"
      ]
    },
    {
      "cell_type": "markdown",
      "metadata": {
        "id": "46v5BJYdIUnO"
      },
      "source": [
        "Расчет MAE:"
      ]
    },
    {
      "cell_type": "code",
      "execution_count": 5,
      "metadata": {
        "colab": {
          "base_uri": "https://localhost:8080/"
        },
        "id": "c9Ur11XgIUnO",
        "outputId": "d87b04d4-211a-4cfa-9240-c5256f3e3725"
      },
      "outputs": [
        {
          "output_type": "stream",
          "name": "stdout",
          "text": [
            "MAE: 15.0\n"
          ]
        }
      ],
      "source": [
        "mae = (1/n) * sum(abs(actual_values - predicted_values))\n",
        "print(f\"MAE: {mae}\")"
      ]
    },
    {
      "cell_type": "markdown",
      "metadata": {
        "id": "J0txMsaXIUnP"
      },
      "source": [
        "Визуализация"
      ]
    },
    {
      "cell_type": "code",
      "execution_count": 6,
      "metadata": {
        "colab": {
          "base_uri": "https://localhost:8080/",
          "height": 472
        },
        "id": "xGdmNm3lIUnP",
        "outputId": "74cb62f4-338a-438e-e14c-f731901389d2"
      },
      "outputs": [
        {
          "output_type": "display_data",
          "data": {
            "text/plain": [
              "<Figure size 640x480 with 1 Axes>"
            ],
            "image/png": "[encoded data removed]"
          },
          "metadata": {}
        }
      ],
      "source": [
        "plt.scatter(actual_values, predicted_values)\n",
        "#plt.plot(predicted_values, 'r')\n",
        "plt.xlabel(\"Фактические значения\")\n",
        "plt.ylabel(\"Предсказанные значения\")\n",
        "plt.title(\"График рассеяния фактических и предсказанных значений\")\n",
        "plt.show();"
      ]
    },
    {
      "cell_type": "markdown",
      "metadata": {
        "id": "RdG5RhYIIUnP"
      },
      "source": [
        "Анализ результатов:\n",
        "\n",
        " MSE показывает среднее значение квадратов ошибок. Чем ниже значение MSE, тем лучше точность предсказания. В нашем случае MSE = 250, что означает средний квадрат ошибки равен 250.\n",
        " MAE показывает среднее значение абсолютных ошибок. Чем ниже значение MAE, тем лучше точность предсказания. В нашем случае MAE = 15, что означает средняя абсолютная ошибка равна 15."
      ]
    },
    {
      "cell_type": "markdown",
      "metadata": {
        "id": "tdInApAeIUnP"
      },
      "source": [
        "Вывод:\n",
        "\n",
        "Из полученных результатов видно, что  MAE = 15  является более низким значением, чем MSE = 250. Это означает, что MAE дает более точное представление о точности предсказания в данном наборе данных.  MAE  более чувствителен к выбросам (сильно отклоняющимся значениям), чем MSE, поэтому в этом случае MAE может быть более информативным показателем.\n",
        "\n",
        "Важно отметить: Выбор лучшей функции потерь зависит от конкретной задачи и данных."
      ]
    }
  ],
  "metadata": {
    "kernelspec": {
      "display_name": "Python 3",
      "language": "python",
      "name": "python3"
    },
    "language_info": {
      "codemirror_mode": {
        "name": "ipython",
        "version": 3
      },
      "file_extension": ".py",
      "mimetype": "text/x-python",
      "name": "python",
      "nbconvert_exporter": "python",
      "pygments_lexer": "ipython3",
      "version": "3.11.0"
    },
    "colab": {
      "provenance": []
    }
  },
  "nbformat": 4,
  "nbformat_minor": 0
}